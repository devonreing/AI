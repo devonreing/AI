{
  "nbformat": 4,
  "nbformat_minor": 0,
  "metadata": {
    "colab": {
      "provenance": [],
      "authorship_tag": "ABX9TyMZ0rz1eRZaA1Spz532Py9x",
      "include_colab_link": true
    },
    "kernelspec": {
      "name": "python3",
      "display_name": "Python 3"
    },
    "language_info": {
      "name": "python"
    }
  },
  "cells": [
    {
      "cell_type": "markdown",
      "metadata": {
        "id": "view-in-github",
        "colab_type": "text"
      },
      "source": [
        "<a href=\"https://colab.research.google.com/github/devonreing/AI/blob/main/EC/AStarExtraCredit.ipynb\" target=\"_parent\"><img src=\"https://colab.research.google.com/assets/colab-badge.svg\" alt=\"Open In Colab\"/></a>"
      ]
    },
    {
      "cell_type": "code",
      "execution_count": 1,
      "metadata": {
        "id": "hc59w7eQKXk1"
      },
      "outputs": [],
      "source": [
        "# The algorithm\n",
        "class AStar:\n",
        "\n",
        "    def __init__(self, adjacency_list, h_list):\n",
        "        self.adjacency_list = adjacency_list\n",
        "        self.h_list = h_list\n",
        "\n",
        "    def get_neighbors(self, v):\n",
        "        return self.adjacency_list[v]\n",
        "\n",
        "    # heuristic function for all nodes\n",
        "    def get_h(self, n):\n",
        "        return self.h_list[n]\n",
        "\n",
        "    def run_algorithm(self, start_node, stop_node):\n",
        "        # open_list is a list of nodes which have been visited, but whose neighbors\n",
        "        # haven't all been inspected, starts off with the start node\n",
        "        # closed_list is a list of nodes which have been visited\n",
        "        # and whose neighbors have been inspected\n",
        "\n",
        "        open_list = set([start_node])\n",
        "        closed_list = set([])\n",
        "\n",
        "        # g contains current distances from start_node to all other nodes\n",
        "        # the default value (if it's not found in the map) is +infinity\n",
        "        g = {}\n",
        "\n",
        "        g[start_node] = 0\n",
        "\n",
        "        # parents contains an adjacency map of all nodes\n",
        "        parents = {}\n",
        "        parents[start_node] = start_node\n",
        "\n",
        "        while len(open_list) > 0:\n",
        "            n = None\n",
        "\n",
        "            # find a node with the lowest value of f() - evaluation function\n",
        "            for v in open_list:\n",
        "                if n == None or g[v] + self.get_h(v) < g[n] + self.get_h(n):\n",
        "                    n = v;\n",
        "\n",
        "            if n == None:\n",
        "                print('Path does not exist!')\n",
        "                return None\n",
        "\n",
        "            # if the current node is the stop_node\n",
        "            # then we begin reconstructin the path from it to the start_node\n",
        "            if n == stop_node:\n",
        "                reconst_path = []\n",
        "\n",
        "                while parents[n] != n:\n",
        "                    reconst_path.append(n)\n",
        "                    n = parents[n]\n",
        "\n",
        "                reconst_path.append(start_node)\n",
        "\n",
        "                reconst_path.reverse()\n",
        "\n",
        "                print('Path found: {}'.format(reconst_path))\n",
        "                return reconst_path\n",
        "\n",
        "            # for all neighbors of the current node do\n",
        "            for (m, weight) in self.get_neighbors(n):\n",
        "                # if the current node isn't in both open_list and closed_list\n",
        "                # add it to open_list and note n as it's parent\n",
        "                if m not in open_list and m not in closed_list:\n",
        "                    open_list.add(m)\n",
        "                    parents[m] = n\n",
        "                    g[m] = g[n] + weight\n",
        "\n",
        "                # otherwise, check if it's quicker to first visit n, then m\n",
        "                # and if it is, update parent data and g data\n",
        "                # and if the node was in the closed_list, move it to open_list\n",
        "                else:\n",
        "                    if g[m] > g[n] + weight:\n",
        "                        g[m] = g[n] + weight\n",
        "                        parents[m] = n\n",
        "\n",
        "                        if m in closed_list:\n",
        "                            closed_list.remove(m)\n",
        "                            open_list.add(m)\n",
        "\n",
        "            # remove n from the open_list, and add it to closed_list\n",
        "            # because all of his neighbors were inspected\n",
        "            open_list.remove(n)\n",
        "            closed_list.add(n)\n",
        "\n",
        "\n",
        "        print('Path does not exist!')\n",
        "        return None"
      ]
    },
    {
      "cell_type": "markdown",
      "source": [
        "# A* Algorithm\n",
        "Using A*, which is using both actual path costs and heuristics, the path will be S-A-D-F-G."
      ],
      "metadata": {
        "id": "O0Z6heeQOwo5"
      }
    },
    {
      "cell_type": "code",
      "source": [
        "adjacency_list1 = {\n",
        "    'S': [('A', 4), ('B', 10), ('C', 11)],\n",
        "    'A': [('B', 1), ('D', 5)],\n",
        "    'B': [('D', 15)],\n",
        "    'C': [('D', 8), ('E', 20), ('F', 2)],\n",
        "    'D': [('H', 16), ('I', 20), ('F', 1)],\n",
        "    'E': [('G', 19)],\n",
        "    'F': [('G', 13)],\n",
        "    'H': [('I', 1), ('J', 2)],\n",
        "    'I': [('G', 43), ('K', 13), ('G', 3)],\n",
        "    'J': [('K', 7)],\n",
        "    'K': [('G', 16)]\n",
        "}\n",
        "\n",
        "\n",
        "# h1() values for nodes\n",
        "h_list1  = {\n",
        "            'S': 7,\n",
        "            'A': 8,\n",
        "            'B': 6,\n",
        "            'C': 5,\n",
        "            'D': 5,\n",
        "            'E': 3,\n",
        "            'F': 3,\n",
        "            'H': 7,\n",
        "            'I': 4,\n",
        "            'J': 5,\n",
        "            'K': 3,\n",
        "            'G': 0\n",
        "        }\n",
        "\n",
        "# Set up the graph and its parameters\n",
        "astar1 = AStar(adjacency_list1, h_list1)\n",
        "\n",
        "# find the optimum path from 'S' to 'G'\n",
        "astar1.run_algorithm('S', 'G')\n",
        "\n"
      ],
      "metadata": {
        "colab": {
          "base_uri": "https://localhost:8080/"
        },
        "id": "RWuaq_YQL-iE",
        "outputId": "a73f8cd0-5f92-4da8-d1d5-aa3808a0b4a0"
      },
      "execution_count": 4,
      "outputs": [
        {
          "output_type": "stream",
          "name": "stdout",
          "text": [
            "Path found: ['S', 'A', 'D', 'F', 'G']\n"
          ]
        },
        {
          "output_type": "execute_result",
          "data": {
            "text/plain": [
              "['S', 'A', 'D', 'F', 'G']"
            ]
          },
          "metadata": {},
          "execution_count": 4
        }
      ]
    },
    {
      "cell_type": "markdown",
      "source": [
        "# Greedy Breadth First Search Algorithm\n",
        "Using GBFS, which utilizes just heuristics and ignores the actual path costs, the shortest path found will be S-C-E-G. This algorithm sacrifices looking ahead in order to pick the shortest path (based on a hunch). It is blinded by what seems the shortest in the short term without the ability to look further down the line unlike A*, resulting in a different path."
      ],
      "metadata": {
        "id": "A-1oWmaMPLoP"
      }
    },
    {
      "cell_type": "code",
      "source": [
        "#GBFS version\n",
        "adjacency_list2 = {\n",
        "    'S': [('A', 0), ('B', 0), ('C', 0)],\n",
        "    'A': [('B', 0), ('D', 0)],\n",
        "    'B': [('D', 0)],\n",
        "    'C': [('D', 0), ('E', 0), ('F', 0)],\n",
        "    'D': [('H', 0), ('I', 0), ('F', 0)],\n",
        "    'E': [('G', 0)],\n",
        "    'F': [('G', 0)],\n",
        "    'H': [('I', 0), ('J', 0)],\n",
        "    'I': [('G', 0), ('K', 0), ('G', 0)],\n",
        "    'J': [('K', 0)],\n",
        "    'K': [('G', 0)]\n",
        "}\n",
        "\n",
        "\n",
        "# h1() values for nodes\n",
        "h_list2  = {\n",
        "            'S': 7,\n",
        "            'A': 8,\n",
        "            'B': 6,\n",
        "            'C': 5,\n",
        "            'D': 5,\n",
        "            'E': 3,\n",
        "            'F': 3,\n",
        "            'H': 7,\n",
        "            'I': 4,\n",
        "            'J': 5,\n",
        "            'K': 3,\n",
        "            'G': 0\n",
        "        }\n",
        "\n",
        "# Set up the graph and its parameters\n",
        "gbfs = AStar(adjacency_list2, h_list2)\n",
        "\n",
        "# find the optimum path from 'S' to 'G'\n",
        "gbfs.run_algorithm('S', 'G')"
      ],
      "metadata": {
        "colab": {
          "base_uri": "https://localhost:8080/"
        },
        "id": "4Ow02zHoOiFF",
        "outputId": "ecd66110-f191-4d6e-8b78-de91582f5fe1"
      },
      "execution_count": 3,
      "outputs": [
        {
          "output_type": "stream",
          "name": "stdout",
          "text": [
            "Path found: ['S', 'C', 'E', 'G']\n"
          ]
        },
        {
          "output_type": "execute_result",
          "data": {
            "text/plain": [
              "['S', 'C', 'E', 'G']"
            ]
          },
          "metadata": {},
          "execution_count": 3
        }
      ]
    },
    {
      "cell_type": "markdown",
      "source": [
        "# Dijkstra's Shortest Path Algorithm\n",
        "Using Dijkstra's Shortest Path, which utilizes just the actual path costs and ignores the heuristics, the shortest path found will be S-A-D-F-G. This algorithm looks ahead in order to pick the shortest path without considering estimates for what the path will look like after going with the shortest actual path."
      ],
      "metadata": {
        "id": "7haIyH5mQYhi"
      }
    },
    {
      "cell_type": "code",
      "source": [
        "#Dijkstra's Shortest Path version\n",
        "adjacency_list3 = {\n",
        "    'S': [('A', 4), ('B', 10), ('C', 11)],\n",
        "    'A': [('B', 1), ('D', 5)],\n",
        "    'B': [('D', 15)],\n",
        "    'C': [('D', 8), ('E', 20), ('F', 2)],\n",
        "    'D': [('H', 16), ('I', 20), ('F', 1)],\n",
        "    'E': [('G', 19)],\n",
        "    'F': [('G', 13)],\n",
        "    'H': [('I', 1), ('J', 2)],\n",
        "    'I': [('G', 43), ('K', 13), ('G', 3)],\n",
        "    'J': [('K', 7)],\n",
        "    'K': [('G', 16)]\n",
        "}\n",
        "\n",
        "\n",
        "# h1() values for nodes\n",
        "h_list3  = {\n",
        "            'S': 0,\n",
        "            'A': 0,\n",
        "            'B': 0,\n",
        "            'C': 0,\n",
        "            'D': 0,\n",
        "            'E': 0,\n",
        "            'F': 0,\n",
        "            'H': 0,\n",
        "            'I': 0,\n",
        "            'J': 0,\n",
        "            'K': 0,\n",
        "            'G': 0\n",
        "        }\n",
        "\n",
        "# Set up the graph and its parameters\n",
        "dsp = AStar(adjacency_list3, h_list3)\n",
        "\n",
        "# find the optimum path from 'S' to 'G'\n",
        "dsp.run_algorithm('S', 'G')"
      ],
      "metadata": {
        "colab": {
          "base_uri": "https://localhost:8080/"
        },
        "id": "Ggi1Q9stOklD",
        "outputId": "ed87a5c2-1297-40db-efc6-6b75af0516c8"
      },
      "execution_count": 5,
      "outputs": [
        {
          "output_type": "stream",
          "name": "stdout",
          "text": [
            "Path found: ['S', 'A', 'D', 'F', 'G']\n"
          ]
        },
        {
          "output_type": "execute_result",
          "data": {
            "text/plain": [
              "['S', 'A', 'D', 'F', 'G']"
            ]
          },
          "metadata": {},
          "execution_count": 5
        }
      ]
    }
  ]
}