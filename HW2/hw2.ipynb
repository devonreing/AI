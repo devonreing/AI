{
  "nbformat": 4,
  "nbformat_minor": 0,
  "metadata": {
    "colab": {
      "provenance": [],
      "authorship_tag": "ABX9TyNkrvHzha5/10D0BImxJb2c",
      "include_colab_link": true
    },
    "kernelspec": {
      "name": "python3",
      "display_name": "Python 3"
    },
    "language_info": {
      "name": "python"
    }
  },
  "cells": [
    {
      "cell_type": "markdown",
      "metadata": {
        "id": "view-in-github",
        "colab_type": "text"
      },
      "source": [
        "<a href=\"https://colab.research.google.com/github/devonreing/AI/blob/main/HW2/hw2.ipynb\" target=\"_parent\"><img src=\"https://colab.research.google.com/assets/colab-badge.svg\" alt=\"Open In Colab\"/></a>"
      ]
    },
    {
      "cell_type": "markdown",
      "source": [
        "# Water Jug Puzzle\n",
        "You have two jugs of water, a five litre jug and a three litre jug. You can fill and empty the jugs as much as you want. How can you get exactly four litres into the five litre jug?\n",
        "\n",
        "# Start State\n",
        "*   [5, 0]\n",
        "\n",
        "# Goal State\n",
        "*   [4, D] where D is any value between 0 and 3 inclusive\n",
        "\n",
        "# Rules\n",
        "*   You can fill up the five litre jug entirely if it is empty.\n",
        "*   You can dump the contents of the five litre jug into the three litre jug until the three litre is full.\n",
        "*   You can dump the remaining contents of the five litre jug into the three litre jug.\n",
        "*   You can empty the three litre jug at any point.\n",
        "\n",
        "\n",
        "\n",
        "# The Solution\n",
        "*   Fill the large jug.\n",
        "*   Fill the small jug with water from the large jug.\n",
        "*   Empty the small jug.\n",
        "*   Pour the remaining two litres from the large jug into the small jug.\n",
        "*   Refill the large jug.\n",
        "*   Pour one litre from the large jug into the small jug.\n",
        "\n",
        "\n",
        "\n",
        "\n",
        "\n",
        "\n",
        "\n"
      ],
      "metadata": {
        "id": "mDoxNaHA3LiU"
      }
    },
    {
      "cell_type": "code",
      "source": [
        "class WaterJugPuzzle():\n",
        "  # model the state using the large and small jugs and their initial litre amounts\n",
        "  def __init__(self):\n",
        "    self.large = 5\n",
        "    self.small = 0\n",
        "\n",
        "  def is_small_jug_full(self):\n",
        "    return self.small == 3\n",
        "\n",
        "  def is_large_jug_full(self):\n",
        "    return self.large == 5\n",
        "\n",
        "  def state_ok(self):\n",
        "    return self.small >= 0 and self.small <= 3 and self.large >= 0 and self.large <= 5\n",
        "\n",
        "  def save_state(self):\n",
        "    self._small = self.small\n",
        "    self._large = self.large\n",
        "\n",
        "  def undo_state(self):\n",
        "    self.small = self._small\n",
        "    self.large = self._large\n",
        "\n",
        "  # Rule 1: You can fill up the five litre jug entirely if it is empty.\n",
        "  def R1_fill_large_jug(self):\n",
        "    self.save_state()\n",
        "    self.large = 5\n",
        "    if not self.state_ok(): self.undo_state()\n",
        "\n",
        "  # Rule 2: You can dump the contents of the five litre jug into the three litre jug until the three litre is full. CHECK LOGIC!!!!!\n",
        "  def R2_fill_small_jug(self):\n",
        "    self.save_state()\n",
        "    small_room = 3 - self.small\n",
        "    dif = self.large - small_room\n",
        "    self.large = dif\n",
        "    self.small = 3\n",
        "    if not self.state_ok(): self.undo_state()\n",
        "\n",
        "  # Rule 3: You can dump the remaining contents of the five litre jug into the three litre jug.\n",
        "  def R3_empty_large_into_small(self):\n",
        "    self.save_state()\n",
        "    self.small = self.small + self.large\n",
        "    self.large = 0\n",
        "    if not self.state_ok(): self.undo_state()\n",
        "\n",
        "  # Rule 4: You can empty the three litre jug at any point.\n",
        "  def R4_empty_small_jug(self):\n",
        "    self.save_state()\n",
        "    self.small = 0\n",
        "    if not self.state_ok(): self.undo_state()\n",
        "\n",
        "  #Print the current litres in each bucket\n",
        "  def print_state(self):\n",
        "    print(\"===> large: {l}, small: {s}\".format(l=self.large, s=self.small))\n",
        "\n",
        "# Forming the solution\n",
        "wjp = WaterJugPuzzle()\n",
        "\n",
        "# print the initial state\n",
        "wjp.print_state()\n",
        "\n",
        "print(\"-----------------------\")\n",
        "# apply a rule and print the resulting state\n",
        "wjp.R2_fill_small_jug()\n",
        "wjp.print_state()\n",
        "\n",
        "print(\"-----------------------\")\n",
        "wjp.R4_empty_small_jug()\n",
        "wjp.print_state()\n",
        "\n",
        "print(\"-----------------------\")\n",
        "wjp.R3_empty_large_into_small()\n",
        "wjp.print_state()\n",
        "\n",
        "print(\"-----------------------\")\n",
        "wjp.R1_fill_large_jug()\n",
        "wjp.print_state()\n",
        "\n",
        "print(\"-----------------------\")\n",
        "wjp.R2_fill_small_jug()\n",
        "wjp.print_state()"
      ],
      "metadata": {
        "colab": {
          "base_uri": "https://localhost:8080/"
        },
        "id": "6E8u4B0F6Egc",
        "outputId": "366ec3b3-c2f8-4e9c-9f19-bf02d325e652"
      },
      "execution_count": 11,
      "outputs": [
        {
          "output_type": "stream",
          "name": "stdout",
          "text": [
            "===> large: 5, small: 0\n",
            "-----------------------\n",
            "===> large: 2, small: 3\n",
            "-----------------------\n",
            "===> large: 2, small: 0\n",
            "-----------------------\n",
            "===> large: 0, small: 2\n",
            "-----------------------\n",
            "===> large: 5, small: 2\n",
            "-----------------------\n",
            "===> large: 4, small: 3\n"
          ]
        }
      ]
    }
  ]
}